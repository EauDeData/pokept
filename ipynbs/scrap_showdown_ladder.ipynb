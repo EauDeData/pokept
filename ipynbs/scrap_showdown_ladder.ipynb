{
 "cells": [
  {
   "cell_type": "code",
   "execution_count": 108,
   "id": "55beffcc-26a4-4d36-870e-03ef843908c7",
   "metadata": {},
   "outputs": [],
   "source": [
    "import requests\n",
    "import pandas as pd\n",
    "from bs4 import BeautifulSoup\n",
    "import urllib.parse\n",
    "from selenium import webdriver\n",
    "from selenium.webdriver.chrome.options import Options\n",
    "from selenium.webdriver.common.by import By\n",
    "from tqdm import tqdm\n",
    "import os"
   ]
  },
  {
   "cell_type": "code",
   "execution_count": 4,
   "id": "851af78e-55e8-4f73-bc16-aa36cee3deb3",
   "metadata": {},
   "outputs": [],
   "source": [
    "doubleou_ladder = 'https://pokemonshowdown.com/ladder/gen9doublesou'\n",
    "ladder_plaintext = requests.get(doubleou_ladder).text\n",
    "\n",
    "ladder_soup = BeautifulSoup(ladder_plaintext)"
   ]
  },
  {
   "cell_type": "code",
   "execution_count": 15,
   "id": "0f70d15b-e850-41ae-903c-64b75bd68990",
   "metadata": {},
   "outputs": [],
   "source": [
    "all_lines = ladder_soup.find('table').find_all('tr')[1:] # Remove first line, as they are indices for the table"
   ]
  },
  {
   "cell_type": "code",
   "execution_count": 35,
   "id": "08d5ce26-b4b8-4180-aa6b-436f471ca7eb",
   "metadata": {},
   "outputs": [],
   "source": [
    "dataframe = pd.DataFrame([{'rank': rank.text, 'user': username.text, 'user_href': username.find('a')['href'], 'elo': elo.text, 'gxe': gxe.text, 'rating': rating.text} for rank, username, elo, gxe, rating in [line.find_all('td') for line in all_lines]])"
   ]
  },
  {
   "cell_type": "code",
   "execution_count": 33,
   "id": "d2da3b50-1eda-4e8b-9794-a3783d42aaae",
   "metadata": {},
   "outputs": [
    {
     "data": {
      "text/plain": [
       "'/users/apricotpeach'"
      ]
     },
     "execution_count": 33,
     "metadata": {},
     "output_type": "execute_result"
    }
   ],
   "source": [
    "all_lines[0].find_all('td')[1].find('a')['href']"
   ]
  },
  {
   "cell_type": "code",
   "execution_count": 38,
   "id": "a266096c-a69a-453b-b006-35c936de4427",
   "metadata": {},
   "outputs": [],
   "source": [
    "dataframe.to_csv('top_500_ladder.csv', index = False)"
   ]
  },
  {
   "cell_type": "code",
   "execution_count": 71,
   "id": "c0d9f5f9-e883-4dbf-b70b-888c71c1c108",
   "metadata": {},
   "outputs": [],
   "source": [
    "chrome_options = Options()\n",
    "# chrome_options.add_argument('--headless')  # This line makes the browser headless\n",
    "chrome_options.add_argument(f\"user-agent=Mozilla/5.0 (Windows NT 10.0; Win64; x64) AppleWebKit/537.36 (KHTML, like Gecko) Chrome/98.0.4758.102 Safari/537.36\")\n",
    "driver = webdriver.Chrome(options=chrome_options)\n",
    "    "
   ]
  },
  {
   "cell_type": "code",
   "execution_count": 104,
   "id": "06fa9d2b-1290-4414-8513-6325d539e2d6",
   "metadata": {},
   "outputs": [],
   "source": [
    "\n",
    "def get_replays_from_user(username, replays_from_users_fstring = 'https://replay.pokemonshowdown.com/?user={user}&page={page}', startswith_condition_string = 'gen9', currentpage=1, driver=driver):\n",
    "    encoded_user = urllib.parse.quote(username)\n",
    "    replaylinks = []\n",
    "    \n",
    "    while True:\n",
    "\n",
    "        url = replays_from_users_fstring.format(user = encoded_user, page = currentpage)\n",
    "        _ = driver.get(url)\n",
    "\n",
    "        blocklink_elements = driver.find_elements(By.CLASS_NAME, \"blocklink\")\n",
    "\n",
    "        if not len(blocklink_elements): return replaylinks\n",
    "\n",
    "        # Extract href attributes from the elements\n",
    "        for element in blocklink_elements:\n",
    "            href = element.get_attribute('href')\n",
    "\n",
    "            # if startswith_condition_string in href.split('/')[-1]:\n",
    "            replaylinks.append(href.split('?p2')[0] + '.json')\n",
    "\n",
    "        currentpage += 1"
   ]
  },
  {
   "cell_type": "code",
   "execution_count": null,
   "id": "9773195c-81b2-4750-87ee-3e26ec2ae6ef",
   "metadata": {},
   "outputs": [
    {
     "name": "stderr",
     "output_type": "stream",
     "text": [
      "scrapping users...:  22%|████▎              | 112/500 [17:55<2:22:06, 21.98s/it]"
     ]
    }
   ],
   "source": [
    "basepath = 'gameslogs'\n",
    "os.makedirs(basepath)\n",
    "for user in tqdm(dataframe['user'], desc='scrapping users...'):\n",
    "    jsons = get_replays_from_user(user)\n",
    "    for json_link in jsons:\n",
    "        response = requests.get(json_link)\n",
    "        json_data = response.json()\n",
    "        with open(os.path.join(basepath, json_link.split('/')[-1]), 'w') as file:\n",
    "            file.write(response.text)\n",
    "\n",
    "        "
   ]
  },
  {
   "cell_type": "code",
   "execution_count": null,
   "id": "cda03d1c-ddeb-4f63-90f7-b852c9673097",
   "metadata": {},
   "outputs": [],
   "source": []
  }
 ],
 "metadata": {
  "kernelspec": {
   "display_name": "Python 3 (ipykernel)",
   "language": "python",
   "name": "python3"
  },
  "language_info": {
   "codemirror_mode": {
    "name": "ipython",
    "version": 3
   },
   "file_extension": ".py",
   "mimetype": "text/x-python",
   "name": "python",
   "nbconvert_exporter": "python",
   "pygments_lexer": "ipython3",
   "version": "3.9.1"
  }
 },
 "nbformat": 4,
 "nbformat_minor": 5
}
