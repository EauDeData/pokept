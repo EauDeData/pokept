{
 "cells": [
  {
   "cell_type": "code",
   "execution_count": 108,
   "id": "55beffcc-26a4-4d36-870e-03ef843908c7",
   "metadata": {},
   "outputs": [],
   "source": [
    "import requests\n",
    "import pandas as pd\n",
    "from bs4 import BeautifulSoup\n",
    "import urllib.parse\n",
    "from selenium import webdriver\n",
    "from selenium.webdriver.chrome.options import Options\n",
    "from selenium.webdriver.common.by import By\n",
    "from tqdm import tqdm\n",
    "import os"
   ]
  },
  {
   "cell_type": "code",
   "execution_count": 4,
   "id": "851af78e-55e8-4f73-bc16-aa36cee3deb3",
   "metadata": {},
   "outputs": [],
   "source": [
    "doubleou_ladder = 'https://pokemonshowdown.com/ladder/gen9doublesou'\n",
    "ladder_plaintext = requests.get(doubleou_ladder).text\n",
    "\n",
    "ladder_soup = BeautifulSoup(ladder_plaintext)"
   ]
  },
  {
   "cell_type": "code",
   "execution_count": 15,
   "id": "0f70d15b-e850-41ae-903c-64b75bd68990",
   "metadata": {},
   "outputs": [],
   "source": [
    "all_lines = ladder_soup.find('table').find_all('tr')[1:] # Remove first line, as they are indices for the table"
   ]
  },
  {
   "cell_type": "code",
   "execution_count": 35,
   "id": "08d5ce26-b4b8-4180-aa6b-436f471ca7eb",
   "metadata": {},
   "outputs": [],
   "source": [
    "dataframe = pd.DataFrame([{'rank': rank.text, 'user': username.text, 'user_href': username.find('a')['href'], 'elo': elo.text, 'gxe': gxe.text, 'rating': rating.text} for rank, username, elo, gxe, rating in [line.find_all('td') for line in all_lines]])"
   ]
  },
  {
   "cell_type": "code",
   "execution_count": 33,
   "id": "d2da3b50-1eda-4e8b-9794-a3783d42aaae",
   "metadata": {},
   "outputs": [
    {
     "data": {
      "text/plain": [
       "'/users/apricotpeach'"
      ]
     },
     "execution_count": 33,
     "metadata": {},
     "output_type": "execute_result"
    }
   ],
   "source": [
    "all_lines[0].find_all('td')[1].find('a')['href']"
   ]
  },
  {
   "cell_type": "code",
   "execution_count": 38,
   "id": "a266096c-a69a-453b-b006-35c936de4427",
   "metadata": {},
   "outputs": [],
   "source": [
    "dataframe.to_csv('top_500_ladder.csv', index = False)"
   ]
  },
  {
   "cell_type": "code",
   "execution_count": 71,
   "id": "c0d9f5f9-e883-4dbf-b70b-888c71c1c108",
   "metadata": {},
   "outputs": [],
   "source": [
    "chrome_options = Options()\n",
    "# chrome_options.add_argument('--headless')  # This line makes the browser headless\n",
    "chrome_options.add_argument(f\"user-agent=Mozilla/5.0 (Windows NT 10.0; Win64; x64) AppleWebKit/537.36 (KHTML, like Gecko) Chrome/98.0.4758.102 Safari/537.36\")\n",
    "driver = webdriver.Chrome(options=chrome_options)\n",
    "    "
   ]
  },
  {
   "cell_type": "code",
   "execution_count": 104,
   "id": "06fa9d2b-1290-4414-8513-6325d539e2d6",
   "metadata": {},
   "outputs": [],
   "source": [
    "\n",
    "def get_replays_from_user(username, replays_from_users_fstring = 'https://replay.pokemonshowdown.com/?user={user}&page={page}', startswith_condition_string = 'gen9', currentpage=1, driver=driver):\n",
    "    encoded_user = urllib.parse.quote(username)\n",
    "    replaylinks = []\n",
    "    \n",
    "    while True:\n",
    "\n",
    "        url = replays_from_users_fstring.format(user = encoded_user, page = currentpage)\n",
    "        _ = driver.get(url)\n",
    "\n",
    "        blocklink_elements = driver.find_elements(By.CLASS_NAME, \"blocklink\")\n",
    "\n",
    "        if not len(blocklink_elements): return replaylinks\n",
    "\n",
    "        # Extract href attributes from the elements\n",
    "        for element in blocklink_elements:\n",
    "            href = element.get_attribute('href')\n",
    "\n",
    "            # if startswith_condition_string in href.split('/')[-1]:\n",
    "            replaylinks.append(href.split('?p2')[0] + '.json')\n",
    "\n",
    "        currentpage += 1"
   ]
  },
  {
   "cell_type": "code",
   "execution_count": 105,
   "id": "9773195c-81b2-4750-87ee-3e26ec2ae6ef",
   "metadata": {},
   "outputs": [
    {
     "data": {
      "text/plain": [
       "['https://replay.pokemonshowdown.com/gen9doublesou-2082977302.json',\n",
       " 'https://replay.pokemonshowdown.com/gen9doublesou-2082971174.json',\n",
       " 'https://replay.pokemonshowdown.com/gen9doublesou-2077857416.json',\n",
       " 'https://replay.pokemonshowdown.com/gen9doublesou-2072028215.json',\n",
       " 'https://replay.pokemonshowdown.com/gen9doublesou-2072025611.json',\n",
       " 'https://replay.pokemonshowdown.com/gen8doublesou-2071448086.json',\n",
       " 'https://replay.pokemonshowdown.com/gen9doublesou-2071440277.json',\n",
       " 'https://replay.pokemonshowdown.com/gen9doublesou-2061525495.json',\n",
       " 'https://replay.pokemonshowdown.com/gen9doublesou-2061521631.json',\n",
       " 'https://replay.pokemonshowdown.com/gen9doublesou-2061519016.json',\n",
       " 'https://replay.pokemonshowdown.com/gen8doublesou-2039914871.json',\n",
       " 'https://replay.pokemonshowdown.com/gen8doublesou-2039909592.json',\n",
       " 'https://replay.pokemonshowdown.com/gen8doublesou-2039902928.json',\n",
       " 'https://replay.pokemonshowdown.com/gen9randombattle-2005785439.json',\n",
       " 'https://replay.pokemonshowdown.com/smogtours-gen92v2doubles-726974.json',\n",
       " 'https://replay.pokemonshowdown.com/smogtours-gen92v2doubles-726961.json',\n",
       " 'https://replay.pokemonshowdown.com/smogtours-gen92v2doubles-721134.json',\n",
       " 'https://replay.pokemonshowdown.com/smogtours-gen92v2doubles-721130.json',\n",
       " 'https://replay.pokemonshowdown.com/smogtours-gen92v2doubles-721126.json',\n",
       " 'https://replay.pokemonshowdown.com/smogtours-gen92v2doubles-721121.json',\n",
       " 'https://replay.pokemonshowdown.com/smogtours-gen92v2doubles-721115.json',\n",
       " 'https://replay.pokemonshowdown.com/smogtours-gen9nationaldexdoubles-714662.json',\n",
       " 'https://replay.pokemonshowdown.com/smogtours-gen9doublesou-712212.json',\n",
       " 'https://replay.pokemonshowdown.com/smogtours-gen9doublesou-712209.json',\n",
       " 'https://replay.pokemonshowdown.com/smogtours-gen9doublesou-712207.json',\n",
       " 'https://replay.pokemonshowdown.com/smogtours-gen9doublesou-710718.json',\n",
       " 'https://replay.pokemonshowdown.com/smogtours-gen9doublesou-710713.json',\n",
       " 'https://replay.pokemonshowdown.com/smogtours-gen9doublesou-710706.json',\n",
       " 'https://replay.pokemonshowdown.com/smogtours-gen92v2doubles-708376.json',\n",
       " 'https://replay.pokemonshowdown.com/smogtours-gen92v2doubles-708374.json',\n",
       " 'https://replay.pokemonshowdown.com/smogtours-gen92v2doubles-708371.json',\n",
       " 'https://replay.pokemonshowdown.com/smogtours-gen92v2doubles-708370.json',\n",
       " 'https://replay.pokemonshowdown.com/smogtours-gen92v2doubles-708369.json',\n",
       " 'https://replay.pokemonshowdown.com/smogtours-gen92v2doubles-708368.json',\n",
       " 'https://replay.pokemonshowdown.com/smogtours-gen92v2doubles-708364.json',\n",
       " 'https://replay.pokemonshowdown.com/smogtours-gen92v2doubles-708362.json',\n",
       " 'https://replay.pokemonshowdown.com/smogtours-gen9doublesou-699827.json',\n",
       " 'https://replay.pokemonshowdown.com/smogtours-gen9doublesou-699824.json',\n",
       " 'https://replay.pokemonshowdown.com/smogtours-gen9doublesou-699692.json',\n",
       " 'https://replay.pokemonshowdown.com/smogtours-gen92v2doubles-697851.json',\n",
       " 'https://replay.pokemonshowdown.com/smogtours-gen92v2doubles-697849.json',\n",
       " 'https://replay.pokemonshowdown.com/smogtours-gen92v2doubles-697846.json',\n",
       " 'https://replay.pokemonshowdown.com/smogtours-gen92v2doubles-697844.json',\n",
       " 'https://replay.pokemonshowdown.com/smogtours-gen92v2doubles-697842.json',\n",
       " 'https://replay.pokemonshowdown.com/smogtours-gen9doublesou-697620.json',\n",
       " 'https://replay.pokemonshowdown.com/smogtours-gen9doublesou-697617.json',\n",
       " 'https://replay.pokemonshowdown.com/smogtours-gen9doublesou-697615.json',\n",
       " 'https://replay.pokemonshowdown.com/smogtours-gen9brokencup-697061.json',\n",
       " 'https://replay.pokemonshowdown.com/smogtours-gen9doublesou-695460.json',\n",
       " 'https://replay.pokemonshowdown.com/smogtours-gen8ou-695453.json',\n",
       " 'https://replay.pokemonshowdown.com/smogtours-gen92v2doubles-695224.json',\n",
       " 'https://replay.pokemonshowdown.com/smogtours-gen92v2doubles-695223.json',\n",
       " 'https://replay.pokemonshowdown.com/smogtours-gen92v2doubles-695222.json',\n",
       " 'https://replay.pokemonshowdown.com/smogtours-gen92v2doubles-695221.json',\n",
       " 'https://replay.pokemonshowdown.com/smogtours-gen92v2doubles-694420.json',\n",
       " 'https://replay.pokemonshowdown.com/smogtours-gen92v2doubles-694418.json',\n",
       " 'https://replay.pokemonshowdown.com/smogtours-gen92v2doubles-694416.json',\n",
       " 'https://replay.pokemonshowdown.com/smogtours-gen9doublesou-689370.json',\n",
       " 'https://replay.pokemonshowdown.com/smogtours-gen9doublesou-686103.json',\n",
       " 'https://replay.pokemonshowdown.com/smogtours-gen9doublesou-672705.json',\n",
       " 'https://replay.pokemonshowdown.com/smogtours-gen61v1-669941.json',\n",
       " 'https://replay.pokemonshowdown.com/smogtours-gen61v1-669937.json',\n",
       " 'https://replay.pokemonshowdown.com/smogtours-gen61v1-669934.json',\n",
       " 'https://replay.pokemonshowdown.com/smogtours-gen61v1-669004.json',\n",
       " 'https://replay.pokemonshowdown.com/smogtours-gen61v1-669003.json',\n",
       " 'https://replay.pokemonshowdown.com/smogtours-gen61v1-669002.json',\n",
       " 'https://replay.pokemonshowdown.com/smogtours-gen61v1-669001.json',\n",
       " 'https://replay.pokemonshowdown.com/smogtours-gen61v1-668995.json',\n",
       " 'https://replay.pokemonshowdown.com/smogtours-gen61v1-668994.json',\n",
       " 'https://replay.pokemonshowdown.com/smogtours-gen61v1-668992.json',\n",
       " 'https://replay.pokemonshowdown.com/smogtours-gen61v1-668990.json',\n",
       " 'https://replay.pokemonshowdown.com/smogtours-gen61v1-668988.json',\n",
       " 'https://replay.pokemonshowdown.com/smogtours-gen61v1-668979.json',\n",
       " 'https://replay.pokemonshowdown.com/smogtours-gen61v1-668975.json',\n",
       " 'https://replay.pokemonshowdown.com/smogtours-gen61v1-668973.json',\n",
       " 'https://replay.pokemonshowdown.com/smogtours-gen61v1-668956.json',\n",
       " 'https://replay.pokemonshowdown.com/smogtours-gen61v1-668949.json',\n",
       " 'https://replay.pokemonshowdown.com/smogtours-gen61v1-668945.json',\n",
       " 'https://replay.pokemonshowdown.com/smogtours-gen61v1-668941.json',\n",
       " 'https://replay.pokemonshowdown.com/smogtours-gen9doublesou-664355.json',\n",
       " 'https://replay.pokemonshowdown.com/smogtours-gen8doublesou-664308.json',\n",
       " 'https://replay.pokemonshowdown.com/smogtours-gen8doublesou-664306.json',\n",
       " 'https://replay.pokemonshowdown.com/smogtours-gen9doublesou-664141.json',\n",
       " 'https://replay.pokemonshowdown.com/smogtours-gen9doublesou-664117.json',\n",
       " 'https://replay.pokemonshowdown.com/smogtours-gen8doublesou-661809.json',\n",
       " 'https://replay.pokemonshowdown.com/smogtours-gen8doublesou-661808.json',\n",
       " 'https://replay.pokemonshowdown.com/smogtours-gen8doublesou-661807.json',\n",
       " 'https://replay.pokemonshowdown.com/smogtours-gen8doublesubers-654307.json',\n",
       " 'https://replay.pokemonshowdown.com/smogtours-gen8doublesubers-654304.json',\n",
       " 'https://replay.pokemonshowdown.com/smogtours-gen8doublesubers-654302.json',\n",
       " 'https://replay.pokemonshowdown.com/smogtours-gen8doublesou-652892.json',\n",
       " 'https://replay.pokemonshowdown.com/smogtours-gen8doublesou-652891.json',\n",
       " 'https://replay.pokemonshowdown.com/smogtours-gen8doublesou-652890.json',\n",
       " 'https://replay.pokemonshowdown.com/smogtours-gen8doublesou-646334.json',\n",
       " 'https://replay.pokemonshowdown.com/smogtours-gen8doublesou-646332.json',\n",
       " 'https://replay.pokemonshowdown.com/smogtours-gen8doublesou-642691.json',\n",
       " 'https://replay.pokemonshowdown.com/smogtours-gen8doublesou-642688.json',\n",
       " 'https://replay.pokemonshowdown.com/smogtours-gen8monotyperandombattle-641471.json',\n",
       " 'https://replay.pokemonshowdown.com/smogtours-gen8monotyperandombattle-641467.json',\n",
       " 'https://replay.pokemonshowdown.com/smogtours-gen8monotyperandombattle-641462.json',\n",
       " 'https://replay.pokemonshowdown.com/smogtours-gen8doublesou-641004.json',\n",
       " 'https://replay.pokemonshowdown.com/smogtours-gen8doublesou-640999.json',\n",
       " 'https://replay.pokemonshowdown.com/smogtours-gen8doublesou-635280.json',\n",
       " 'https://replay.pokemonshowdown.com/smogtours-gen8doublesou-635279.json',\n",
       " 'https://replay.pokemonshowdown.com/smogtours-gen8doublesou-635277.json',\n",
       " 'https://replay.pokemonshowdown.com/smogtours-gen61v1-632001.json',\n",
       " 'https://replay.pokemonshowdown.com/smogtours-gen61v1-631991.json',\n",
       " 'https://replay.pokemonshowdown.com/smogtours-gen61v1-631982.json',\n",
       " 'https://replay.pokemonshowdown.com/smogtours-gen61v1-631977.json',\n",
       " 'https://replay.pokemonshowdown.com/smogtours-gen61v1-631970.json',\n",
       " 'https://replay.pokemonshowdown.com/smogtours-gen61v1-631966.json',\n",
       " 'https://replay.pokemonshowdown.com/smogtours-gen61v1-631959.json',\n",
       " 'https://replay.pokemonshowdown.com/smogtours-gen61v1-631948.json',\n",
       " 'https://replay.pokemonshowdown.com/smogtours-gen71v1-630425.json',\n",
       " 'https://replay.pokemonshowdown.com/smogtours-gen71v1-630422.json',\n",
       " 'https://replay.pokemonshowdown.com/smogtours-gen71v1-630412.json',\n",
       " 'https://replay.pokemonshowdown.com/smogtours-gen71v1-630403.json']"
      ]
     },
     "execution_count": 105,
     "metadata": {},
     "output_type": "execute_result"
    }
   ],
   "source": [
    "os.makedirs('gameslogs')\n",
    "for user in tqdm(dataframe['user'], desc='scrapping users...'):\n",
    "    jsons = get_replays_from_user(user)\n",
    "    for json_link in jsons:\n",
    "        response = requests.get(json_link)\n",
    "        json_data = response.json()\n",
    "        "
   ]
  },
  {
   "cell_type": "code",
   "execution_count": null,
   "id": "cda03d1c-ddeb-4f63-90f7-b852c9673097",
   "metadata": {},
   "outputs": [],
   "source": []
  }
 ],
 "metadata": {
  "kernelspec": {
   "display_name": "Python 3 (ipykernel)",
   "language": "python",
   "name": "python3"
  },
  "language_info": {
   "codemirror_mode": {
    "name": "ipython",
    "version": 3
   },
   "file_extension": ".py",
   "mimetype": "text/x-python",
   "name": "python",
   "nbconvert_exporter": "python",
   "pygments_lexer": "ipython3",
   "version": "3.9.1"
  }
 },
 "nbformat": 4,
 "nbformat_minor": 5
}
